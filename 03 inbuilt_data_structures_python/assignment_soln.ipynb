{
 "cells": [
  {
   "cell_type": "markdown",
   "metadata": {},
   "source": [
    "Question:1 create list for first 20 +ve integers and print it"
   ]
  },
  {
   "cell_type": "markdown",
   "metadata": {},
   "source": [
    "Question:2 Print first, middle and Last element combined in list created in assignment 1"
   ]
  },
  {
   "cell_type": "code",
   "execution_count": 5,
   "metadata": {},
   "outputs": [
    {
     "name": "stdout",
     "output_type": "stream",
     "text": [
      "1 11 20\n"
     ]
    }
   ],
   "source": [
    "\"\"\" (one of the way)\n",
    "lst = []\n",
    "for i in range(20):\n",
    "    lst.append(i)\n",
    "print(lst)\n",
    "\"\"\"    \n",
    "#list created from first 20 positive integers\n",
    "numbers = list(range(1,21))\n",
    "\n",
    "#print first, middle and last element\n",
    "first_element = numbers[0]\n",
    "middle_element = numbers[len(numbers) // 2]\n",
    "#len(numbers) // 2 will divide size of list without fraction.\n",
    "last_element = numbers[-1]\n",
    "\n",
    "print(first_element,middle_element,last_element)"
   ]
  },
  {
   "cell_type": "markdown",
   "metadata": {},
   "source": [
    "Question-3: List Slicing\n",
    "\n",
    "Print the first five elements, the last five elements, and the elements from index 5 to 15 of the list created in Assignment-1.\n"
   ]
  },
  {
   "cell_type": "code",
   "execution_count": 6,
   "metadata": {},
   "outputs": [
    {
     "name": "stdout",
     "output_type": "stream",
     "text": [
      "[1, 2, 3, 4, 5]\n",
      "[16, 17, 18, 19, 20]\n",
      "[6, 7, 8, 9, 10, 11, 12, 13, 14, 15]\n"
     ]
    }
   ],
   "source": [
    "print(numbers[:5])\n",
    "print(numbers[-5:])\n",
    "print(numbers[5:15])\n"
   ]
  },
  {
   "cell_type": "markdown",
   "metadata": {},
   "source": [
    "Question 4: List Comprehensions\n",
    "\n",
    "Create a new list containing the squares of the first 10 positive integers using a list comprehension. Print the new list."
   ]
  },
  {
   "cell_type": "code",
   "execution_count": 7,
   "metadata": {},
   "outputs": [
    {
     "name": "stdout",
     "output_type": "stream",
     "text": [
      "[1, 4, 9, 16, 25, 36, 49, 64, 81, 100]\n"
     ]
    }
   ],
   "source": [
    "newlist = [x**2 for x in range(1,11)]\n",
    "print(newlist)\n",
    "#print([x**2 for x in range(1, 11)])"
   ]
  },
  {
   "cell_type": "markdown",
   "metadata": {},
   "source": [
    "Question:5 Filtering Lists\n",
    "\n",
    "Create a new list containing only the even numbers from the list created in Assignment 1 using a list comprehension. \n",
    "Print the new list."
   ]
  },
  {
   "cell_type": "code",
   "execution_count": 8,
   "metadata": {},
   "outputs": [
    {
     "name": "stdout",
     "output_type": "stream",
     "text": [
      "[2, 4, 6, 8, 10, 12, 14, 16, 18, 20]\n"
     ]
    }
   ],
   "source": [
    "evenlist = [x for x in numbers if x%2==0]\n",
    "print(evenlist)"
   ]
  },
  {
   "cell_type": "markdown",
   "metadata": {},
   "source": [
    "Question:6 List Methods\n",
    "\n",
    "Create a list of random numbers and sort it in ascending and descending order. Remove the duplicates from the list and print the modified list."
   ]
  },
  {
   "cell_type": "code",
   "execution_count": 9,
   "metadata": {},
   "outputs": [
    {
     "name": "stdout",
     "output_type": "stream",
     "text": [
      "Original list: [134, 134, 200, 154, 239, 189]\n",
      "Sorted list (ascending): [134, 134, 154, 189, 200, 239]\n",
      "Sorted list (descending): [239, 200, 189, 154, 134, 134]\n",
      "List with duplicates removed: [134, 200, 239, 154, 189]\n"
     ]
    }
   ],
   "source": [
    "import random\n",
    "# let's generate random number of times being total\n",
    "# random numbers generated\n",
    "\n",
    "randomnumber = random.randint(1,9) \n",
    "\n",
    "randomlist = [random.randint(1, 300) for _ in range(randomnumber)]\n",
    "\n",
    "# Print the original list\n",
    "print(\"Original list:\", randomlist)\n",
    "\n",
    "# Sort the list in ascending order\n",
    "randomlist.sort()\n",
    "print(\"Sorted list (ascending):\", randomlist)\n",
    "\n",
    "# Sort the list in descending order\n",
    "randomlist.sort(reverse=True)\n",
    "print(\"Sorted list (descending):\", randomlist)\n",
    "\n",
    "# Remove duplicates using a set\n",
    "unique_list = list(set(randomlist))\n",
    "print(\"List with duplicates removed:\", unique_list)\n"
   ]
  },
  {
   "cell_type": "markdown",
   "metadata": {},
   "source": [
    "Question 7: Nested Lists\n",
    "\n",
    "Create a nested list representing a 3x3 matrix and print the matrix. Access and print the element at the second row and third column."
   ]
  },
  {
   "cell_type": "code",
   "execution_count": 10,
   "metadata": {},
   "outputs": [
    {
     "name": "stdout",
     "output_type": "stream",
     "text": [
      "Matrix:\n",
      "[1, 2, 3]\n",
      "[4, 5, 6]\n",
      "[7, 8, 9]\n",
      "Element at second row and third column: 6\n"
     ]
    }
   ],
   "source": [
    "mymatrix = [\n",
    "    [1, 2, 3],\n",
    "    [4, 5, 6],\n",
    "    [7, 8, 9]\n",
    "]\n",
    "print(\"Matrix:\")\n",
    "for row in mymatrix:\n",
    "    print(row)\n",
    "\n",
    "print(f\"Element at second row and third column: {mymatrix[1][2]}\")\n",
    "#print(\"Element at second row and third column:\", mymatrix[1][2])\n"
   ]
  },
  {
   "cell_type": "markdown",
   "metadata": {},
   "source": [
    "Question 8: List of Dictionaries\n",
    "\n",
    "Create a list of dictionaries where each dictionary represents a student with keys 'name' and 'score'. Sort the list of dictionaries by the 'score' in descending order and print the sorted list."
   ]
  },
  {
   "cell_type": "code",
   "execution_count": null,
   "metadata": {},
   "outputs": [
    {
     "name": "stdout",
     "output_type": "stream",
     "text": [
      "{'name': 'rohit', 'score': '264'}\n",
      "{'name': 'sehwag', 'score': '219'}\n",
      "{'name': 'sachin', 'score': '200'}\n",
      "{'name': 'Dhoni', 'score': '183'}\n",
      "{'name': 'kohli', 'score': '183'}\n"
     ]
    }
   ],
   "source": [
    "students = [\n",
    "    {'name':'Dhoni' , 'score':'183'},\n",
    "    {'name':'sehwag' , 'score':'219'},\n",
    "    {'name':'kohli' , 'score':'183'},\n",
    "    {'name':'sachin' , 'score':'200'},\n",
    "    {'name':'rohit' , 'score':'264'}   \n",
    "]\n",
    "\n",
    "sorted_students = sorted(students , key=lambda x:x['score'], reverse=True)\n",
    "for x in sorted_students:\n",
    "    print(x)"
   ]
  },
  {
   "cell_type": "markdown",
   "metadata": {},
   "source": [
    "Question-9: Matrix Transposition\n",
    "\n",
    "Write a function that takes a 3x3 matrix (nested list) as input and returns its transpose. Print the original and transposed matrices."
   ]
  },
  {
   "cell_type": "code",
   "execution_count": 12,
   "metadata": {},
   "outputs": [
    {
     "name": "stdout",
     "output_type": "stream",
     "text": [
      "Original Matrix:\n",
      "[1, 2, 3]\n",
      "[4, 5, 6]\n",
      "[7, 8, 9]\n",
      "Transposed Matrix:\n",
      "[1, 4, 7]\n",
      "[2, 5, 8]\n",
      "[3, 6, 9]\n"
     ]
    }
   ],
   "source": [
    "def transpose_matrix(matrix):\n",
    "    transposed = [ [matrix[j][i] for j in range(len(matrix))]  for i in range(len(matrix[0]))]\n",
    "    return transposed\n",
    "\n",
    "matrix = [\n",
    "    [1, 2, 3],\n",
    "    [4, 5, 6],\n",
    "    [7, 8, 9]\n",
    "]\n",
    "transposed = transpose_matrix(matrix)\n",
    "\n",
    "print(\"Original Matrix:\")\n",
    "for x in matrix:\n",
    "    print(x)\n",
    "\n",
    "print(\"Transposed Matrix:\")\n",
    "for y in transposed:\n",
    "    print(y)\n"
   ]
  },
  {
   "cell_type": "markdown",
   "metadata": {},
   "source": [
    "Question-10: Flattening a Nested List\n",
    "\n",
    "Write a function that takes a nested list and flattens it into a single list. Print the original and flattened lists."
   ]
  },
  {
   "cell_type": "code",
   "execution_count": 13,
   "metadata": {},
   "outputs": [
    {
     "name": "stdout",
     "output_type": "stream",
     "text": [
      "Original Nested List: [[1, [2, 3]], [4, 5, 6], [7, 8, 9]]\n",
      "Flattened List: [1, [2, 3], 4, 5, 6, 7, 8, 9]\n"
     ]
    }
   ],
   "source": [
    "def flatten_list(nested_list):\n",
    "    flatten = [item for sublist in nested_list for item in sublist]\n",
    "    return flatten\n",
    "nested_list = [\n",
    "    [1, [2, 3]],\n",
    "    [4, 5, 6],\n",
    "    [7, 8, 9]\n",
    "]\n",
    "flattened = flatten_list(nested_list)\n",
    "print(\"Original Nested List:\",nested_list)\n",
    "print(\"Flattened List:\",flattened)"
   ]
  },
  {
   "cell_type": "markdown",
   "metadata": {},
   "source": [
    "Question-11: List Manipulation\n",
    "\n",
    "Create a list of the first 10 positive integers. Remove the elements at indices 2, 4, and 6, and insert the element '99' at index 5. Print the modified list."
   ]
  },
  {
   "cell_type": "code",
   "execution_count": 14,
   "metadata": {},
   "outputs": [
    {
     "name": "stdout",
     "output_type": "stream",
     "text": [
      "Original List: [1, 2, 3, 4, 5, 6, 7, 8, 9, 10]\n",
      "New modified list is: [1, 3, 5, 7, 8, 99, 9, 10]\n"
     ]
    }
   ],
   "source": [
    "llist = list(range(1,11))\n",
    "print(\"Original List:\",llist)\n",
    "llist.remove(2)\n",
    "llist.remove(4)\n",
    "llist.remove(6)\n",
    "llist.insert(5,99)\n",
    "print(\"New modified list is:\",llist)"
   ]
  },
  {
   "cell_type": "markdown",
   "metadata": {},
   "source": [
    "Question-12: List Zipping\n",
    "\n",
    "Create two lists of the same length. Use the `zip` function to combine these lists into a list of tuples and print the result."
   ]
  },
  {
   "cell_type": "code",
   "execution_count": 15,
   "metadata": {},
   "outputs": [
    {
     "name": "stdout",
     "output_type": "stream",
     "text": [
      "[(1, 'ab de villiers'), (2, 'brendon mccullum '), (3, 'chris gayle'), (4, 'david warner'), (5, 'ellyse perry')]\n"
     ]
    }
   ],
   "source": [
    "# like using cello tape to stick pairs of two different lists\n",
    "list1 = [1, 2, 3, 4, 5]\n",
    "list2 = ['ab de villiers', 'brendon mccullum ', 'chris gayle', 'david warner', 'ellyse perry']\n",
    "zipped = list(zip(list1, list2))\n",
    "print(zipped)"
   ]
  },
  {
   "cell_type": "markdown",
   "metadata": {},
   "source": [
    "Question-13: List Reversal\n",
    "\n",
    "Write a function that takes a list and returns a new list with the elements in reverse order. Print the original and reversed lists."
   ]
  },
  {
   "cell_type": "code",
   "execution_count": 17,
   "metadata": {},
   "outputs": [
    {
     "name": "stdout",
     "output_type": "stream",
     "text": [
      "[7, 6, 5, 4, 3, 2, 1]\n"
     ]
    }
   ],
   "source": [
    "def reverse_list(lst):\n",
    "    n_list = lst[::-1]\n",
    "    return n_list\n",
    "lst = [1,2,3,4,5,6,7]\n",
    "ll = reverse_list(lst)\n",
    "print(ll)\n",
    "\n",
    "#Simplification:\n",
    "# def reverse_list(lst):\n",
    "#     return lst[::-1]\n",
    "\n",
    "# original_list = [1, 2, 3, 4, 5]\n",
    "# reversed_list = reverse_list(original_list)\n",
    "# print(f\"Original list: {original_list}\")\n",
    "# print(f\"Reversed list: {reversed_list}\")"
   ]
  },
  {
   "cell_type": "markdown",
   "metadata": {},
   "source": [
    "Question-14: List Rotation\n",
    "\n",
    "Write a function that rotates a list by n positions. Print the original and rotated lists."
   ]
  },
  {
   "cell_type": "code",
   "execution_count": 19,
   "metadata": {},
   "outputs": [
    {
     "name": "stdout",
     "output_type": "stream",
     "text": [
      "Original list: [1, 2, 3, 4, 5]\n",
      "Rotated list: [3, 4, 5, 1, 2]\n"
     ]
    }
   ],
   "source": [
    "def rotate_list(lst, n):\n",
    "#list = [1,2,3,4,5,6,7,8,9,10]\n",
    "#assume rotating n = 3\n",
    "#list will start with index of 3 and till last, now from starting to 3rd index list will print\n",
    "#concatination of this will give rotation, just try yourself\n",
    "    return lst[n:] + lst[:n]\n",
    "\n",
    "original_list = [1, 2, 3, 4, 5]\n",
    "rotated_list = rotate_list(original_list, 2)\n",
    "print(f\"Original list: {original_list}\")\n",
    "print(f\"Rotated list: {rotated_list}\")"
   ]
  },
  {
   "cell_type": "markdown",
   "metadata": {},
   "source": [
    "Question-15: List Intersection\n",
    "\n",
    "Write a function that takes two lists and returns a new list containing only the elements that are present in both lists. Print the intersected list."
   ]
  },
  {
   "cell_type": "code",
   "execution_count": 20,
   "metadata": {},
   "outputs": [
    {
     "name": "stdout",
     "output_type": "stream",
     "text": [
      "List 1: [1, 2, 3, 4, 5]\n",
      "List 2: [3, 4, 5, 6, 7]\n",
      "Intersection: [3, 4, 5]\n"
     ]
    }
   ],
   "source": [
    "def list_intersection(lst1, lst2):\n",
    "    return [x for x in lst1 if x in lst2]\n",
    "\n",
    "list1 = [1, 2, 3, 4, 5]\n",
    "list2 = [3, 4, 5, 6, 7]\n",
    "intersection = list_intersection(list1, list2)\n",
    "print(f\"List 1: {list1}\")\n",
    "print(f\"List 2: {list2}\")\n",
    "print(f\"Intersection: {intersection}\")"
   ]
  }
 ],
 "metadata": {
  "kernelspec": {
   "display_name": "Python 3",
   "language": "python",
   "name": "python3"
  },
  "language_info": {
   "codemirror_mode": {
    "name": "ipython",
    "version": 3
   },
   "file_extension": ".py",
   "mimetype": "text/x-python",
   "name": "python",
   "nbconvert_exporter": "python",
   "pygments_lexer": "ipython3",
   "version": "3.11.8"
  }
 },
 "nbformat": 4,
 "nbformat_minor": 2
}
