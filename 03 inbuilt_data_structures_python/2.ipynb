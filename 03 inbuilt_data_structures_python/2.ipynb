{
 "cells": [
  {
   "cell_type": "markdown",
   "metadata": {},
   "source": [
    "#### Tuple"
   ]
  },
  {
   "cell_type": "markdown",
   "metadata": {},
   "source": [
    "Ordered collection of items that are immutable, they're similar to lists but their immutability makes them different."
   ]
  },
  {
   "cell_type": "code",
   "execution_count": 1,
   "metadata": {},
   "outputs": [
    {
     "name": "stdout",
     "output_type": "stream",
     "text": [
      "()\n",
      "<class 'tuple'>\n"
     ]
    }
   ],
   "source": [
    "empty_tuple=()\n",
    "print(empty_tuple)\n",
    "print(type(empty_tuple))"
   ]
  },
  {
   "cell_type": "code",
   "execution_count": 2,
   "metadata": {},
   "outputs": [
    {
     "name": "stdout",
     "output_type": "stream",
     "text": [
      "<class 'list'>\n",
      "<class 'tuple'>\n"
     ]
    }
   ],
   "source": [
    "mylst = list()\n",
    "print(type(mylst))\n",
    "mytuple = tuple()\n",
    "print(type(mytuple))"
   ]
  },
  {
   "cell_type": "code",
   "execution_count": 3,
   "metadata": {},
   "outputs": [
    {
     "data": {
      "text/plain": [
       "(1, 2, 2, 2, 10, 3, 4, 5, 6, 7, 8, 9, 10)"
      ]
     },
     "execution_count": 3,
     "metadata": {},
     "output_type": "execute_result"
    }
   ],
   "source": [
    "numbers = tuple([1,2,2,2,10,3,4,5,6,7,8,9,10])\n",
    "numbers #list converted into tuple above, opposite also true"
   ]
  },
  {
   "cell_type": "code",
   "execution_count": 4,
   "metadata": {},
   "outputs": [
    {
     "name": "stdout",
     "output_type": "stream",
     "text": [
      "[1, 2, 3, 4, 5, 6, 7]\n"
     ]
    }
   ],
   "source": [
    "print(list((1,2,3,4,5,6,7))) #tuple converted into list"
   ]
  },
  {
   "cell_type": "code",
   "execution_count": 5,
   "metadata": {},
   "outputs": [
    {
     "name": "stdout",
     "output_type": "stream",
     "text": [
      "(1, 2, 2, 2, 10, 3, 4, 5, 6, 7, 8, 9, 10)\n"
     ]
    }
   ],
   "source": [
    "print(numbers)"
   ]
  },
  {
   "cell_type": "code",
   "execution_count": 6,
   "metadata": {},
   "outputs": [
    {
     "name": "stdout",
     "output_type": "stream",
     "text": [
      "2\n",
      "10\n",
      "(10, 9, 8, 7, 6, 5, 4, 3, 10, 2, 2, 2, 1)\n",
      "(1, 2, 2, 2, 10)\n",
      "(1, 2, 10, 4, 6, 8, 10)\n"
     ]
    }
   ],
   "source": [
    "print(numbers[2])\n",
    "print(numbers[-1])\n",
    "print(numbers[::-1])\n",
    "print(numbers[0:5])\n",
    "print(numbers[::2])"
   ]
  },
  {
   "cell_type": "code",
   "execution_count": 7,
   "metadata": {},
   "outputs": [
    {
     "name": "stdout",
     "output_type": "stream",
     "text": [
      "(1, 2, 2, 2, 10, 3, 4, 5, 6, 7, 8, 9, 10, 'hello', 'world', 264)\n"
     ]
    }
   ],
   "source": [
    "#Tuple Operations\n",
    "newtuple = ('hello','world',264)\n",
    "concatination =  numbers + newtuple\n",
    "print(concatination)"
   ]
  },
  {
   "cell_type": "code",
   "execution_count": 8,
   "metadata": {},
   "outputs": [
    {
     "name": "stdout",
     "output_type": "stream",
     "text": [
      "('hello', 'world', 264, 'hello', 'world', 264)\n",
      "(1, 2, 2, 2, 10, 3, 4, 5, 6, 7, 8, 9, 10, 1, 2, 2, 2, 10, 3, 4, 5, 6, 7, 8, 9, 10, 1, 2, 2, 2, 10, 3, 4, 5, 6, 7, 8, 9, 10)\n"
     ]
    }
   ],
   "source": [
    "print(newtuple * 2)\n",
    "print(numbers * 3)"
   ]
  },
  {
   "cell_type": "code",
   "execution_count": 9,
   "metadata": {},
   "outputs": [
    {
     "name": "stdout",
     "output_type": "stream",
     "text": [
      "[1, 2, 3, 4, 5, 6]\n",
      "[1, 'baba_yaga', 3, 4, 5, 6]\n",
      "(10, 20, 30, 40, 50, 60)\n",
      "(10, 20, 30, 40, 50, 60)\n"
     ]
    }
   ],
   "source": [
    "#Immutable Nature of Tuple [list are mutable/changable, but same not goes for 'tuple']\n",
    "lst = [1,2,3,4,5,6]\n",
    "print(lst)\n",
    "lst[1] = 'baba_yaga'\n",
    "print(lst)\n",
    "#let's do it for tuple\n",
    "tple = (10,20,30,40,50,60)\n",
    "print(tple)\n",
    "#tple[1] = 'baba_yaga' #can't reassign or change because it's immutable\n",
    "print(tple)"
   ]
  },
  {
   "cell_type": "code",
   "execution_count": 10,
   "metadata": {},
   "outputs": [
    {
     "name": "stdout",
     "output_type": "stream",
     "text": [
      "in this tuple number '2' is occured: 3 Times.\n",
      "in this tuple number '3' is occured: 1 Times.\n",
      "in this tuple number '10' is occured: 2 Times.\n"
     ]
    }
   ],
   "source": [
    "# Tuple Methods\n",
    "#1. Count\n",
    "print(f\"in this tuple number '2' is occured: {numbers.count(2)} Times.\")\n",
    "print(f\"in this tuple number '3' is occured: {numbers.count(3)} Times.\")\n",
    "print(f\"in this tuple number '10' is occured: {numbers.count(10)} Times.\")"
   ]
  }
 ],
 "metadata": {
  "kernelspec": {
   "display_name": "Python 3",
   "language": "python",
   "name": "python3"
  },
  "language_info": {
   "codemirror_mode": {
    "name": "ipython",
    "version": 3
   },
   "file_extension": ".py",
   "mimetype": "text/x-python",
   "name": "python",
   "nbconvert_exporter": "python",
   "pygments_lexer": "ipython3",
   "version": "3.11.8"
  }
 },
 "nbformat": 4,
 "nbformat_minor": 2
}
