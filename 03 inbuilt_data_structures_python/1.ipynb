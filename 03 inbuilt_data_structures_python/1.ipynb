{
 "cells": [
  {
   "cell_type": "markdown",
   "metadata": {},
   "source": [
    "### 1. Intro To Lists "
   ]
  },
  {
   "cell_type": "code",
   "execution_count": 1,
   "metadata": {},
   "outputs": [
    {
     "name": "stdout",
     "output_type": "stream",
     "text": [
      "<class 'list'>\n"
     ]
    }
   ],
   "source": [
    "mylyst = []\n",
    "print(type(mylyst))"
   ]
  },
  {
   "cell_type": "code",
   "execution_count": 2,
   "metadata": {},
   "outputs": [
    {
     "name": "stdout",
     "output_type": "stream",
     "text": [
      "['ai', 'ml', 'dl', 'nlp', 'cv', 'genai', 'llms', 123127]\n"
     ]
    }
   ],
   "source": [
    "#total 8 elements\n",
    "mylyst = ['ai','ml','dl','nlp','cv','genai','llms',123127]\n",
    "print(mylyst)"
   ]
  },
  {
   "cell_type": "code",
   "execution_count": 3,
   "metadata": {},
   "outputs": [
    {
     "name": "stdout",
     "output_type": "stream",
     "text": [
      "dl\n",
      "123127\n",
      "['ai', 'ml', 'dl', 'nlp', 'cv', 'genai', 'llms']\n",
      "['ai', 'ml', 'dl']\n"
     ]
    }
   ],
   "source": [
    "print(mylyst[2])\n",
    "print(mylyst[-1]) #last element\n",
    "print(mylyst[0:-1])\n",
    "print(mylyst[0:3])"
   ]
  },
  {
   "cell_type": "code",
   "execution_count": 4,
   "metadata": {},
   "outputs": [],
   "source": [
    "#transfer/edit list elements\n",
    "mylyst[4]= 'transformers'"
   ]
  },
  {
   "cell_type": "code",
   "execution_count": 5,
   "metadata": {},
   "outputs": [
    {
     "name": "stdout",
     "output_type": "stream",
     "text": [
      "['ai', 'ml', 'dl', 'nlp', 'transformers', 'genai', 'llms', 123127]\n"
     ]
    }
   ],
   "source": [
    "print(mylyst)"
   ]
  },
  {
   "cell_type": "code",
   "execution_count": 6,
   "metadata": {},
   "outputs": [],
   "source": [
    "# it doesn't work that way means\n",
    "# You cannot copy a list simply by typing list2 = list1, because: list2 will only be a reference\n",
    "# to list1, and changes made in list1 will automatically also be made in list2.\n",
    "# newlist = mylyst\n",
    "newlist = mylyst.copy()"
   ]
  },
  {
   "cell_type": "code",
   "execution_count": 7,
   "metadata": {},
   "outputs": [
    {
     "name": "stdout",
     "output_type": "stream",
     "text": [
      "existing old list:  ['ai', 'ml', 'dl', 'nlp', 'transformers', 'genai', 'llms', 123127]\n",
      "new list (with error):  ['w', 'a', 't', 'e', 'r']\n"
     ]
    }
   ],
   "source": [
    "# \"i want to replace everything with water but there's one error\"\n",
    "newlist[0:] = 'water'\n",
    "print(\"existing old list: \", mylyst)\n",
    "print(\"new list (with error): \", newlist)"
   ]
  },
  {
   "cell_type": "code",
   "execution_count": 8,
   "metadata": {},
   "outputs": [
    {
     "name": "stdout",
     "output_type": "stream",
     "text": [
      "['w', 'a', 't', 'e', 'r', 'baba_yaga']\n"
     ]
    }
   ],
   "source": [
    "# List methods\n",
    "# 1.append\n",
    "newlist.append(\"baba_yaga\") ## it'll add item at the end of list\n",
    "print(newlist)"
   ]
  },
  {
   "cell_type": "code",
   "execution_count": 9,
   "metadata": {},
   "outputs": [
    {
     "name": "stdout",
     "output_type": "stream",
     "text": [
      "['w', 'waterAgain', 'a', 't', 'e', 'r', 'baba_yaga']\n"
     ]
    }
   ],
   "source": [
    "# 2.insert\n",
    "newlist.insert(1,\"waterAgain\")\n",
    "print(newlist)"
   ]
  },
  {
   "cell_type": "code",
   "execution_count": 10,
   "metadata": {},
   "outputs": [
    {
     "name": "stdout",
     "output_type": "stream",
     "text": [
      "['w', 'waterAgain', 'a', 't', 'e', 'baba_yaga']\n"
     ]
    }
   ],
   "source": [
    "#3.remove\n",
    "newlist.remove(\"r\")\n",
    "print(newlist)"
   ]
  },
  {
   "cell_type": "code",
   "execution_count": 11,
   "metadata": {},
   "outputs": [
    {
     "name": "stdout",
     "output_type": "stream",
     "text": [
      "baba_yaga\n",
      "['w', 'waterAgain', 'johnWick', 'a', 't', 'e']\n"
     ]
    }
   ],
   "source": [
    "#just playling around, remove and return last popped element and print new list, just random things     \n",
    "#at first line i add johnwick\n",
    "newlist.insert(2,\"johnWick\")\n",
    "popped_newlist = newlist.pop()\n",
    "print(popped_newlist)\n",
    "print(newlist)"
   ]
  },
  {
   "cell_type": "code",
   "execution_count": 12,
   "metadata": {},
   "outputs": [
    {
     "name": "stdout",
     "output_type": "stream",
     "text": [
      "1\n",
      "1\n"
     ]
    }
   ],
   "source": [
    "index = newlist.index(\"waterAgain\")\n",
    "print(index)\n",
    "print(newlist.count(\"johnWick\")) #count number of elements"
   ]
  },
  {
   "cell_type": "code",
   "execution_count": 13,
   "metadata": {},
   "outputs": [
    {
     "name": "stdout",
     "output_type": "stream",
     "text": [
      "['a', 'e', 'johnWick', 't', 'w', 'waterAgain']\n"
     ]
    }
   ],
   "source": [
    "newlist.sort() #sort list in asscending order, priority to capital letter is first\n",
    "print(newlist)"
   ]
  },
  {
   "cell_type": "code",
   "execution_count": 14,
   "metadata": {},
   "outputs": [],
   "source": [
    "newlist.reverse()#reverse the elements/list"
   ]
  },
  {
   "cell_type": "code",
   "execution_count": 15,
   "metadata": {},
   "outputs": [
    {
     "name": "stdout",
     "output_type": "stream",
     "text": [
      "['waterAgain', 'w', 't', 'johnWick', 'e', 'a']\n"
     ]
    }
   ],
   "source": [
    "# newlist.clear() to clear entire list, remove all items from list\n",
    "print(newlist)"
   ]
  },
  {
   "cell_type": "code",
   "execution_count": 16,
   "metadata": {},
   "outputs": [],
   "source": [
    "my_movie_list = \"\"\"the\n",
    "bat\"\"\""
   ]
  },
  {
   "cell_type": "code",
   "execution_count": 17,
   "metadata": {},
   "outputs": [
    {
     "data": {
      "text/plain": [
       "'the\\nbat'"
      ]
     },
     "execution_count": 17,
     "metadata": {},
     "output_type": "execute_result"
    }
   ],
   "source": [
    "my_movie_list #enter is also counted as character"
   ]
  },
  {
   "cell_type": "code",
   "execution_count": 18,
   "metadata": {},
   "outputs": [
    {
     "data": {
      "text/plain": [
       "7"
      ]
     },
     "execution_count": 18,
     "metadata": {},
     "output_type": "execute_result"
    }
   ],
   "source": [
    "len(my_movie_list)"
   ]
  },
  {
   "cell_type": "code",
   "execution_count": 19,
   "metadata": {},
   "outputs": [
    {
     "data": {
      "text/plain": [
       "['t', 'h', 'e', '\\n', 'b', 'a', 't']"
      ]
     },
     "execution_count": 19,
     "metadata": {},
     "output_type": "execute_result"
    }
   ],
   "source": [
    "list(my_movie_list)"
   ]
  },
  {
   "cell_type": "code",
   "execution_count": 20,
   "metadata": {},
   "outputs": [
    {
     "data": {
      "text/plain": [
       "'THE\\nBAT'"
      ]
     },
     "execution_count": 20,
     "metadata": {},
     "output_type": "execute_result"
    }
   ],
   "source": [
    "my_movie_list.upper()"
   ]
  },
  {
   "cell_type": "code",
   "execution_count": 21,
   "metadata": {},
   "outputs": [
    {
     "name": "stdout",
     "output_type": "stream",
     "text": [
      "[3, 4, 5]\n",
      "[1, 2, 3, 4, 5]\n",
      "[6, 7, 8, 9, 10]\n",
      "[1, 3, 5, 7, 9]\n",
      "[10, 9, 8, 7, 6, 5, 4, 3, 2, 1]\n"
     ]
    }
   ],
   "source": [
    "#Slicing List\n",
    "numbers = [1,2,3,4,5,6,7,8,9,10]\n",
    "print(numbers[2:5])\n",
    "print(numbers[:5])\n",
    "print(numbers[5:])\n",
    "print(numbers[::2])\n",
    "print(numbers[::-1])"
   ]
  },
  {
   "cell_type": "code",
   "execution_count": 22,
   "metadata": {},
   "outputs": [
    {
     "name": "stdout",
     "output_type": "stream",
     "text": [
      "[1, 2, 3, 4, 5, 6, 7, 8, 9, 10]\n",
      "[1, 2, 3, 4, 5, 6, 7, 8, 9, 10]\n",
      "[1, 3, 5, 7, 9]\n",
      "[1, 4, 7, 10]\n",
      "[10, 8, 6, 4, 2]\n"
     ]
    }
   ],
   "source": [
    "print(numbers[::])#same\n",
    "print(numbers[::1])#same\n",
    "print(numbers[::2])\n",
    "print(numbers[::3])\n",
    "print(numbers[::-2])"
   ]
  },
  {
   "cell_type": "code",
   "execution_count": 23,
   "metadata": {},
   "outputs": [
    {
     "name": "stdout",
     "output_type": "stream",
     "text": [
      "waterAgain\n",
      "w\n",
      "t\n",
      "johnWick\n",
      "e\n",
      "a\n"
     ]
    }
   ],
   "source": [
    "## Iterating over lists\n",
    "\n",
    "for x in newlist:\n",
    "    print(x)"
   ]
  },
  {
   "cell_type": "code",
   "execution_count": 24,
   "metadata": {},
   "outputs": [
    {
     "name": "stdout",
     "output_type": "stream",
     "text": [
      "0 1\n",
      "1 2\n",
      "2 3\n",
      "3 4\n",
      "4 5\n",
      "5 6\n",
      "6 7\n",
      "7 8\n",
      "8 9\n",
      "9 10\n"
     ]
    }
   ],
   "source": [
    "# enumerate is like indexing things\n",
    "for x,y in enumerate(numbers):\n",
    "    print(x,y)"
   ]
  },
  {
   "cell_type": "code",
   "execution_count": 25,
   "metadata": {},
   "outputs": [
    {
     "name": "stdout",
     "output_type": "stream",
     "text": [
      "[0, 1, 4, 9, 16, 25, 36, 49, 64, 81]\n"
     ]
    }
   ],
   "source": [
    "# list comprehension \n",
    "mylist=[]\n",
    "for x in range(10):\n",
    "    mylist.append(x**2)\n",
    "print(mylist)    #list every elements in range and append in the mylist"
   ]
  },
  {
   "cell_type": "markdown",
   "metadata": {},
   "source": [
    "#### List Comprehensions\n",
    "\n",
    "Basics syntax              [expression for item in iterable]\n",
    "\n",
    "With conditional logic     [expression for item in iterable if condition]\n",
    "\n",
    "Nested List comprehensions [expression for item1 in iterable1 for item2 in iterable2]"
   ]
  },
  {
   "cell_type": "code",
   "execution_count": 26,
   "metadata": {},
   "outputs": [
    {
     "data": {
      "text/plain": [
       "[0, 1, 4, 9, 16, 25, 36, 49, 64, 81, 100, 121]"
      ]
     },
     "execution_count": 26,
     "metadata": {},
     "output_type": "execute_result"
    }
   ],
   "source": [
    "# new we do above thing with list comprehension method \n",
    "# syntax:\n",
    "# [what we want to perform       write code for it like iteration]\n",
    "# 1. Basic List Comprehension\n",
    "[x**2 for x in range(12)] # 12 means: \"from 0 to 11\""
   ]
  },
  {
   "cell_type": "code",
   "execution_count": 27,
   "metadata": {},
   "outputs": [
    {
     "name": "stdout",
     "output_type": "stream",
     "text": [
      "[0, 2, 4, 6, 8]\n"
     ]
    }
   ],
   "source": [
    "#List comprehension with Condition\n",
    "\n",
    "#1. without list comp with cond.\n",
    "dustbin=[]\n",
    "for i in range(10):\n",
    "    if i%2==0:\n",
    "        dustbin.append(i)\n",
    "print(dustbin)"
   ]
  },
  {
   "cell_type": "code",
   "execution_count": 28,
   "metadata": {},
   "outputs": [
    {
     "name": "stdout",
     "output_type": "stream",
     "text": [
      "[0, 2, 4, 6, 8]\n"
     ]
    }
   ],
   "source": [
    "#2. with list comprehension with condition\n",
    "even_numbers=[num for num in range(10) if num%2==0]\n",
    "print(even_numbers)"
   ]
  },
  {
   "cell_type": "code",
   "execution_count": 32,
   "metadata": {},
   "outputs": [
    {
     "name": "stdout",
     "output_type": "stream",
     "text": [
      "[[1, 'AB de Villiers'], [1, 'Brett Lee'], [1, 'Chris Gayle'], [1, 'David Warner'], [2, 'AB de Villiers'], [2, 'Brett Lee'], [2, 'Chris Gayle'], [2, 'David Warner'], [3, 'AB de Villiers'], [3, 'Brett Lee'], [3, 'Chris Gayle'], [3, 'David Warner'], [4, 'AB de Villiers'], [4, 'Brett Lee'], [4, 'Chris Gayle'], [4, 'David Warner']]\n"
     ]
    }
   ],
   "source": [
    "#3. Nested List comprehensions\n",
    "lst1 = [1,2,3,4]\n",
    "lst2 = ['AB de Villiers','Brett Lee','Chris Gayle','David Warner']\n",
    "#Wrong Syntax, cant use 'range': \n",
    "pair = [[i,j] for i in lst1 for j in lst2]\n",
    "print(pair)"
   ]
  },
  {
   "cell_type": "code",
   "execution_count": 35,
   "metadata": {},
   "outputs": [
    {
     "name": "stdout",
     "output_type": "stream",
     "text": [
      "[5, 7, 6, 4, 14]\n"
     ]
    }
   ],
   "source": [
    "# List comprehension with function calls\n",
    "words = ['hello','myworld','python','list','comprehensions']\n",
    "lengths = [len(x) for x in words]\n",
    "print(lengths)"
   ]
  },
  {
   "cell_type": "code",
   "execution_count": null,
   "metadata": {},
   "outputs": [],
   "source": []
  }
 ],
 "metadata": {
  "kernelspec": {
   "display_name": "Python 3",
   "language": "python",
   "name": "python3"
  },
  "language_info": {
   "codemirror_mode": {
    "name": "ipython",
    "version": 3
   },
   "file_extension": ".py",
   "mimetype": "text/x-python",
   "name": "python",
   "nbconvert_exporter": "python",
   "pygments_lexer": "ipython3",
   "version": "3.11.8"
  }
 },
 "nbformat": 4,
 "nbformat_minor": 2
}
