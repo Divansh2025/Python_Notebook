{
 "nbformat": 4,
 "nbformat_minor": 0,
 "metadata": {
  "colab": {
   "provenance": [],
   "toc_visible": true
  },
  "kernelspec": {
   "name": "python3",
   "display_name": "Python 3 (ipykernel)",
   "language": "python"
  },
  "language_info": {
   "name": "python"
  }
 },
 "cells": [
  {
   "cell_type": "markdown",
   "source": [
    "Importing **Numpy**"
   ],
   "metadata": {
    "id": "N7HuCq2e93Bx"
   }
  },
  {
   "cell_type": "code",
   "source": [
    "import numpy as np"
   ],
   "metadata": {
    "id": "nh0sGqeZvoVL",
    "ExecuteTime": {
     "end_time": "2024-12-20T12:29:48.141433Z",
     "start_time": "2024-12-20T12:29:48.137234Z"
    }
   },
   "outputs": [],
   "execution_count": 2
  },
  {
   "cell_type": "markdown",
   "source": [
    "Create **Numpy** arrays which is more feasible and has more advantages over classical arrays."
   ],
   "metadata": {
    "id": "vaS_4kM-9_EQ"
   }
  },
  {
   "cell_type": "code",
   "source": [
    "print('1d array')\n",
    "a = np.array([1,2,3,4,5,5,6])\n",
    "print(a)\n",
    "\n",
    "print('2d array')\n",
    "b = np.array([[1,2,3,4,5],[6,7,8,9,10]])\n",
    "print(b)\n",
    "\n",
    "print('3d array')\n",
    "c = np.array([[[1,2,3,4,5],[6,7,8,9,10],[11,12,13,14,15.99]]])\n",
    "print(c)\n",
    "print()\n",
    "print(type(a))\n",
    "print(a.size) #tells us number of elements in array\n",
    "print(b.size)\n",
    "print(c.size)\n",
    "print(a.dtype)\n",
    "print(c.dtype)"
   ],
   "metadata": {
    "colab": {
     "base_uri": "https://localhost:8080/"
    },
    "id": "8Of5W_M7MpHm",
    "outputId": "fb5336f8-afa2-4f5e-9e9b-8253b39326d5",
    "ExecuteTime": {
     "end_time": "2024-12-20T12:29:48.192717Z",
     "start_time": "2024-12-20T12:29:48.180453Z"
    }
   },
   "outputs": [
    {
     "name": "stdout",
     "output_type": "stream",
     "text": [
      "1d array\n",
      "[1 2 3 4 5 5 6]\n",
      "2d array\n",
      "[[ 1  2  3  4  5]\n",
      " [ 6  7  8  9 10]]\n",
      "3d array\n",
      "[[[ 1.    2.    3.    4.    5.  ]\n",
      "  [ 6.    7.    8.    9.   10.  ]\n",
      "  [11.   12.   13.   14.   15.99]]]\n",
      "\n",
      "<class 'numpy.ndarray'>\n",
      "7\n",
      "10\n",
      "15\n",
      "int32\n",
      "float64\n"
     ]
    }
   ],
   "execution_count": 3
  },
  {
   "cell_type": "markdown",
   "source": [
    "You can also use `matrix_name.T` for transpose of the matrix."
   ],
   "metadata": {
    "id": "t0stzytO-J1R"
   }
  },
  {
   "cell_type": "code",
   "source": [
    "#transpose replace rows with columns and columns with rows:\n",
    "d = np.array([[1,2,3,4,5],\n",
    "              [6,7,8,9,10],\n",
    "              [11,12,13,14,15.99]])\n",
    "print(d.transpose())"
   ],
   "metadata": {
    "id": "I9bHG-kGNDGb",
    "colab": {
     "base_uri": "https://localhost:8080/"
    },
    "outputId": "76faa807-fad6-44dd-efc8-bf16e9fd2feb",
    "ExecuteTime": {
     "end_time": "2024-12-20T12:29:48.249407Z",
     "start_time": "2024-12-20T12:29:48.242117Z"
    }
   },
   "outputs": [
    {
     "name": "stdout",
     "output_type": "stream",
     "text": [
      "[[ 1.    6.   11.  ]\n",
      " [ 2.    7.   12.  ]\n",
      " [ 3.    8.   13.  ]\n",
      " [ 4.    9.   14.  ]\n",
      " [ 5.   10.   15.99]]\n"
     ]
    }
   ],
   "execution_count": 4
  },
  {
   "cell_type": "markdown",
   "source": [
    "`np.linalg` is a module in NumPy (Numerical Python) that\n",
    "provides functions for linear algebra operations."
   ],
   "metadata": {
    "id": "xggTQP8C-gP4"
   }
  },
  {
   "cell_type": "markdown",
   "source": [
    "when there's no solutions or infinite solutions then least squares used to find best fit lines."
   ],
   "metadata": {
    "id": "BXfLlRK--9bI"
   }
  },
  {
   "cell_type": "code",
   "source": [
    "#This function specifically solves a linear least squares problem. This means it\n",
    "#finds the \"best fit\" solution when the system of equations Ax = b has no exact solution\n",
    "#(i.e., the system is overdetermined or inconsistent).\n",
    "def solve_linear_least_squares(A, b):\n",
    "\n",
    "  x = np.linalg.lstsq(A, b, rcond=None)[0]\n",
    "  return x\n",
    "\n",
    "# Example usage:\n",
    "A = np.array([[1, 2, 3],\n",
    "              [4, 5, 6],\n",
    "              [7, 8, 9]])\n",
    "b = np.array( [1, 2, 4] )\n",
    "\n",
    "x = solve_linear_least_squares(A, b)\n",
    "print(x) # To see the output, run the code.\n"
   ],
   "metadata": {
    "id": "r2Q8u12SZMwA",
    "colab": {
     "base_uri": "https://localhost:8080/"
    },
    "outputId": "9b240f3b-63d9-46cb-e8c4-c26e9665f040",
    "ExecuteTime": {
     "end_time": "2024-12-20T12:29:48.618167Z",
     "start_time": "2024-12-20T12:29:48.307098Z"
    }
   },
   "outputs": [
    {
     "name": "stdout",
     "output_type": "stream",
     "text": [
      "[0.25       0.16666667 0.08333333]\n"
     ]
    }
   ],
   "execution_count": 5
  },
  {
   "cell_type": "code",
   "source": [
    "# Create the NumPy array A\n",
    "A = np.array([\n",
    "    [1, 2, 3],\n",
    "    [1, 1, 2],\n",
    "    [0, 0, 1]\n",
    "])\n",
    "\n",
    "# Create the NumPy array b\n",
    "b = np.array([1, 5, 9])\n",
    "\n",
    "# Solve the linear equation system Ax = b\n",
    "print(f\"determinant of the matrix is: {np.linalg.det(A)}.\")\n",
    "print(f\"rank of the matrix is: {np.linalg.matrix_rank(A)}.\")\n",
    "try:\n",
    "    inv_A = np.linalg.inv(A)\n",
    "    print(\"Inverse of A:\\n\", inv_A)\n",
    "except np.linalg.LinAlgError:\n",
    "    print(\"Matrix A is singular (not invertible).\")\n",
    "\n",
    "\n",
    "#\n",
    "x = np.linalg.solve(A, b)\n",
    "\n",
    "# Display the result\n",
    "print(x)"
   ],
   "metadata": {
    "colab": {
     "base_uri": "https://localhost:8080/"
    },
    "id": "m9sIHMX-Fcd1",
    "outputId": "6ef63862-e2d1-4c22-e1ba-dd7b2799ad2b",
    "ExecuteTime": {
     "end_time": "2024-12-20T12:29:48.645806Z",
     "start_time": "2024-12-20T12:29:48.630433Z"
    }
   },
   "outputs": [
    {
     "name": "stdout",
     "output_type": "stream",
     "text": [
      "determinant of the matrix is: -1.0.\n",
      "rank of the matrix is: 3.\n",
      "Inverse of A:\n",
      " [[-1.  2. -1.]\n",
      " [ 1. -1. -1.]\n",
      " [ 0.  0.  1.]]\n",
      "[  0. -13.   9.]\n"
     ]
    }
   ],
   "execution_count": 6
  },
  {
   "cell_type": "code",
   "source": [
    "# Define the matrices\n",
    "A = np.array([\n",
    "    [1, 2, 3],\n",
    "    [1, 1, 2],\n",
    "    [0, 0, 1]\n",
    "])\n",
    "b = np.array([1, 5, 9])\n",
    "\n",
    "# Calculate and print matrix properties\n",
    "det_A = np.linalg.det(A)\n",
    "rank_A = np.linalg.matrix_rank(A)\n",
    "print(f\"Determinant of A: {det_A:.2f}\")  # Format determinant with 2 decimal places\n",
    "print(f\"Rank of A: {rank_A}\")\n",
    "\n",
    "# Check for invertibility and calculate inverse\n",
    "if np.linalg.det(A) != 0:\n",
    "    inv_A = np.linalg.inv(A)\n",
    "    print(\"Inverse of A:\\n\", inv_A)\n",
    "else:\n",
    "    print(\"Matrix A is singular (not invertible).\")\n",
    "\n",
    "# Solve the linear equation system\n",
    "x = np.linalg.solve(A, b)\n",
    "# x = np.linalg.lstsq(A, b, rcond=None)[0]  # Use lstsq instead of solve, if solution not possible\n",
    "\n",
    "# Print the solution\n",
    "print(\"Solution (x):\\n\", x)"
   ],
   "metadata": {
    "colab": {
     "base_uri": "https://localhost:8080/"
    },
    "id": "Cljlyn1IH2lq",
    "outputId": "e91f65f9-cea1-4885-96b4-8c74617cc1df",
    "ExecuteTime": {
     "end_time": "2024-12-20T12:29:48.695006Z",
     "start_time": "2024-12-20T12:29:48.684301Z"
    }
   },
   "outputs": [
    {
     "name": "stdout",
     "output_type": "stream",
     "text": [
      "Determinant of A: -1.00\n",
      "Rank of A: 3\n",
      "Inverse of A:\n",
      " [[-1.  2. -1.]\n",
      " [ 1. -1. -1.]\n",
      " [ 0.  0.  1.]]\n",
      "Solution (x):\n",
      " [  0. -13.   9.]\n"
     ]
    }
   ],
   "execution_count": 7
  },
  {
   "cell_type": "code",
   "source": [
    "import numpy as np\n",
    "C = np.array([\n",
    "    [1,2,3],\n",
    "    [4,5,6],\n",
    "    [7,8,9]\n",
    "])\n",
    "\n",
    "D = np.array([1,2,4])\n",
    "det = np.linalg.det(C)\n",
    "if(det == 0):\n",
    "  print(\"Matrix is singular, so try another or below's least square best fit!\")\n",
    "else:\n",
    "  print(np.linalg.solve(C,D))\n",
    "print(np.linalg.lstsq(C,D,rcond=None)[0])\n"
   ],
   "metadata": {
    "id": "LN-J9_a2LELS",
    "colab": {
     "base_uri": "https://localhost:8080/"
    },
    "outputId": "4a077456-ed80-4e52-8d45-aa22993b369a",
    "ExecuteTime": {
     "end_time": "2024-12-20T12:29:48.719436Z",
     "start_time": "2024-12-20T12:29:48.713462Z"
    }
   },
   "outputs": [
    {
     "name": "stdout",
     "output_type": "stream",
     "text": [
      "[ 3.15251974e+15 -6.30503948e+15  3.15251974e+15]\n",
      "[0.25       0.16666667 0.08333333]\n"
     ]
    }
   ],
   "execution_count": 8
  },
  {
   "cell_type": "code",
   "source": [
    "#projection of b onto a is there, compute it from p = x^ . A\n",
    "b = np.array([[1],\n",
    "              [1]])\n",
    "a = np.array([[1],\n",
    "              [-1]])\n",
    "trans_b=b.T\n",
    "trans_a=a.T\n",
    "\n",
    "x = np.dot(a.T, b) / np.dot(a.T, a)\n",
    "projcetion_p = np.dot(x,a.T)\n",
    "print(x)\n",
    "print(projcetion_p)\n"
   ],
   "metadata": {
    "id": "_o1Vs51B2CYu",
    "colab": {
     "base_uri": "https://localhost:8080/"
    },
    "outputId": "4a6b5352-a45b-420d-9d4c-e6c4220b1adb",
    "ExecuteTime": {
     "end_time": "2024-12-20T12:29:48.745424Z",
     "start_time": "2024-12-20T12:29:48.736896Z"
    }
   },
   "outputs": [
    {
     "name": "stdout",
     "output_type": "stream",
     "text": [
      "[[0.]]\n",
      "[[0. 0.]]\n"
     ]
    }
   ],
   "execution_count": 9
  }
 ]
}
