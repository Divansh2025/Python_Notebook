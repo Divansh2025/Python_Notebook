{
 "cells": [
  {
   "cell_type": "markdown",
   "metadata": {},
   "source": [
    "### Python Example"
   ]
  },
  {
   "cell_type": "code",
   "execution_count": 1,
   "metadata": {},
   "outputs": [
    {
     "name": "stdout",
     "output_type": "stream",
     "text": [
      "5\n"
     ]
    }
   ],
   "source": [
    "print(1+1*4)"
   ]
  },
  {
   "cell_type": "code",
   "execution_count": 5,
   "metadata": {},
   "outputs": [
    {
     "name": "stdout",
     "output_type": "stream",
     "text": [
      "22\n",
      "32\n"
     ]
    }
   ],
   "source": [
    "age = 32\n",
    "if(age>=32):\n",
    "    vage = age - 10\n",
    "    print(vage)\n",
    "print(age)"
   ]
  },
  {
   "cell_type": "code",
   "execution_count": 9,
   "metadata": {},
   "outputs": [
    {
     "name": "stdout",
     "output_type": "stream",
     "text": [
      "<class 'str'>\n"
     ]
    }
   ],
   "source": [
    "print(type(\"hello world\"))"
   ]
  },
  {
   "cell_type": "code",
   "execution_count": 6,
   "metadata": {},
   "outputs": [
    {
     "name": "stdout",
     "output_type": "stream",
     "text": [
      "20 <class 'int'>\n",
      "divanshh <class 'str'>\n",
      "<class 'int'>\n",
      "<class 'str'>\n",
      "Hello world: 20\n",
      "Hello world: divanshh\n"
     ]
    }
   ],
   "source": [
    "x = 20\n",
    "y = \"divanshh\"\n",
    "print(x,type(x))\n",
    "print(y,type(y))\n",
    "print(type(x))\n",
    "print(type(y))\n",
    "print(\"Hello world:\",x)\n",
    "print(\"Hello world:\",y)"
   ]
  },
  {
   "cell_type": "code",
   "execution_count": 8,
   "metadata": {},
   "outputs": [
    {
     "name": "stdout",
     "output_type": "stream",
     "text": [
      "210120116066 <class 'int'>\n"
     ]
    }
   ],
   "source": [
    "enrlnumber = int(input(\"What's your enrollment number: \"))\n",
    "print(enrlnumber,type(enrlnumber))"
   ]
  }
 ],
 "metadata": {
  "kernelspec": {
   "display_name": "Python 3",
   "language": "python",
   "name": "python3"
  },
  "language_info": {
   "codemirror_mode": {
    "name": "ipython",
    "version": 3
   },
   "file_extension": ".py",
   "mimetype": "text/x-python",
   "name": "python",
   "nbconvert_exporter": "python",
   "pygments_lexer": "ipython3",
   "version": "3.11.8"
  }
 },
 "nbformat": 4,
 "nbformat_minor": 2
}
