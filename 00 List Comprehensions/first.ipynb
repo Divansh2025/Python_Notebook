{
 "cells": [
  {
   "cell_type": "markdown",
   "metadata": {},
   "source": [
    "List = [ i*2 for i in iterable]"
   ]
  },
  {
   "cell_type": "code",
   "execution_count": null,
   "metadata": {},
   "outputs": [],
   "source": [
    "iterables = ['a',12,'abdevilliers',264]\n",
    "print(\"first:\",[i*2 for i in iterables])\n",
    "print(\"second:\",[i*2 for i in [1,2,3]])"
   ]
  },
  {
   "cell_type": "code",
   "execution_count": null,
   "metadata": {},
   "outputs": [],
   "source": [
    "bowlers = ['starc','rabada','hazlewood','cummins','boult']\n",
    "iterables = [] #emptying past list first then append\n",
    "for i in bowlers:\n",
    "    # print(i)\n",
    "    # i doesn't mean index, i means perticular element of that list like i : bowlers[i]\n",
    "    iterables.append(i.capitalize())\n",
    "iterables\n",
    "# same as print(iterables)"
   ]
  },
  {
   "cell_type": "code",
   "execution_count": null,
   "metadata": {},
   "outputs": [],
   "source": [
    "#smart way to do this shit, this time we'll make all this capital\n",
    "Result = [x.upper() for x in iterables]\n",
    "print(Result)"
   ]
  },
  {
   "cell_type": "code",
   "execution_count": null,
   "metadata": {},
   "outputs": [],
   "source": [
    "num = [1,2,3,4,5,6,7,8,9,10]\n",
    "def timesfive(num):\n",
    "    return num*5\n",
    "\n",
    "Results = []\n",
    "for x in num:\n",
    "    # print(\"x:\",x)\n",
    "    x = Results.append(timesfive(x))\n",
    "    #Results.append(timesfive(x))   will give same results\n",
    "    \n",
    "print(\"Results with timesFive function:\",Results)\n"
   ]
  },
  {
   "cell_type": "code",
   "execution_count": null,
   "metadata": {},
   "outputs": [],
   "source": [
    "#do the same thing with list comprehensions\n",
    "newresults = [timesfive(i) for i in num]\n",
    "# print(num)\n",
    "print(newresults)"
   ]
  },
  {
   "cell_type": "code",
   "execution_count": null,
   "metadata": {},
   "outputs": [],
   "source": [
    "strings = [\"intro\",\"to\",\"the\",\"list\",\"comprehensions\"]\n",
    "dictionary = [{'name':'john'},{'name':'doe'},{'name':'Black'}]\n",
    "Result = [] #emptying previous trash\n",
    "for x in dictionary:\n",
    "    Result.append(x['name'])\n",
    "print(\"Here's the result:\",Result) #we printed only all names"
   ]
  },
  {
   "cell_type": "code",
   "execution_count": null,
   "metadata": {},
   "outputs": [],
   "source": [
    "asdf = [i['name'] for i in dictionary]\n",
    "print(\"Here's better one:\",asdf)"
   ]
  },
  {
   "cell_type": "code",
   "execution_count": null,
   "metadata": {},
   "outputs": [],
   "source": []
  }
 ],
 "metadata": {
  "kernelspec": {
   "display_name": "Python 3",
   "language": "python",
   "name": "python3"
  },
  "language_info": {
   "codemirror_mode": {
    "name": "ipython",
    "version": 3
   },
   "file_extension": ".py",
   "mimetype": "text/x-python",
   "name": "python",
   "nbconvert_exporter": "python",
   "pygments_lexer": "ipython3",
   "version": "3.11.0"
  }
 },
 "nbformat": 4,
 "nbformat_minor": 2
}
