{
 "cells": [
  {
   "cell_type": "markdown",
   "metadata": {},
   "source": [
    "### Python Control Flow"
   ]
  },
  {
   "cell_type": "markdown",
   "metadata": {},
   "source": [
    "Outlines:\n",
    "  if, elif, else statements, nested conditional statements, examples and practices"
   ]
  },
  {
   "cell_type": "code",
   "metadata": {
    "ExecuteTime": {
     "end_time": "2024-12-20T12:31:23.122903Z",
     "start_time": "2024-12-20T12:31:09.597073Z"
    }
   },
   "source": [
    "fractional_point = float(input(\"Enter value of fractional point:\"))\n",
    "if(fractional_point>abs(10.638)):\n",
    "   print(\"point value greater than 10\")\n",
    "elif(fractional_point<10):\n",
    "   print(\"value is less than 10\")\n",
    "else:\n",
    "   print(\"value is exactly:\",fractional_point)"
   ],
   "outputs": [
    {
     "name": "stdout",
     "output_type": "stream",
     "text": [
      "point value greater than 10\n"
     ]
    }
   ],
   "execution_count": 1
  },
  {
   "cell_type": "code",
   "metadata": {
    "ExecuteTime": {
     "end_time": "2024-12-20T12:31:26.159561Z",
     "start_time": "2024-12-20T12:31:23.176420Z"
    }
   },
   "source": [
    "#leap year or not\n",
    "year = int(input(\"Enter the year: \"))\n",
    "if(year%4==0):\n",
    "    if(year%100==0):\n",
    "        if(year%400==0):\n",
    "            print(\"Year \" + str(year) + \" is leap year.\")\n",
    "        else:\n",
    "           print(\"Year \" + str(year)+\" is not leap year.\")\n",
    "    else:\n",
    "        print(\"Year \" + str(year)+\" is a leap year.\")\n",
    "else:\n",
    "    print(\"Year \" + str(year)+\" is not leap year.\")"
   ],
   "outputs": [
    {
     "name": "stdout",
     "output_type": "stream",
     "text": [
      "Year 123 is not leap year.\n"
     ]
    }
   ],
   "execution_count": 2
  },
  {
   "cell_type": "markdown",
   "metadata": {},
   "source": [
    "### For Loop / iteration"
   ]
  },
  {
   "cell_type": "code",
   "metadata": {
    "ExecuteTime": {
     "end_time": "2024-12-20T12:31:26.303026Z",
     "start_time": "2024-12-20T12:31:26.297908Z"
    }
   },
   "source": [
    "for i in range(5):\n",
    "    print(i)"
   ],
   "outputs": [
    {
     "name": "stdout",
     "output_type": "stream",
     "text": [
      "0\n",
      "1\n",
      "2\n",
      "3\n",
      "4\n"
     ]
    }
   ],
   "execution_count": 3
  },
  {
   "cell_type": "code",
   "metadata": {
    "ExecuteTime": {
     "end_time": "2024-12-20T12:31:26.357259Z",
     "start_time": "2024-12-20T12:31:26.352227Z"
    }
   },
   "source": [
    "for i in range(1,10,2):\n",
    "    print(i)"
   ],
   "outputs": [
    {
     "name": "stdout",
     "output_type": "stream",
     "text": [
      "1\n",
      "3\n",
      "5\n",
      "7\n",
      "9\n"
     ]
    }
   ],
   "execution_count": 4
  },
  {
   "cell_type": "code",
   "metadata": {
    "ExecuteTime": {
     "end_time": "2024-12-20T12:31:26.398755Z",
     "start_time": "2024-12-20T12:31:26.393648Z"
    }
   },
   "source": [
    "name = \"Divansh Galani\"\n",
    "for i in str(name):\n",
    "    print(i)"
   ],
   "outputs": [
    {
     "name": "stdout",
     "output_type": "stream",
     "text": [
      "D\n",
      "i\n",
      "v\n",
      "a\n",
      "n\n",
      "s\n",
      "h\n",
      " \n",
      "G\n",
      "a\n",
      "l\n",
      "a\n",
      "n\n",
      "i\n"
     ]
    }
   ],
   "execution_count": 5
  },
  {
   "cell_type": "code",
   "metadata": {
    "ExecuteTime": {
     "end_time": "2024-12-20T12:31:26.445972Z",
     "start_time": "2024-12-20T12:31:26.441564Z"
    }
   },
   "source": [
    "count = 0\n",
    "while count<5:\n",
    "    print(count)\n",
    "    count=count+1"
   ],
   "outputs": [
    {
     "name": "stdout",
     "output_type": "stream",
     "text": [
      "0\n",
      "1\n",
      "2\n",
      "3\n",
      "4\n"
     ]
    }
   ],
   "execution_count": 6
  },
  {
   "cell_type": "code",
   "metadata": {
    "ExecuteTime": {
     "end_time": "2024-12-20T12:31:26.480694Z",
     "start_time": "2024-12-20T12:31:26.475842Z"
    }
   },
   "source": [
    "for i in range(100):\n",
    "    if(i==10):\n",
    "        break\n",
    "    else:\n",
    "        print(i)"
   ],
   "outputs": [
    {
     "name": "stdout",
     "output_type": "stream",
     "text": [
      "0\n",
      "1\n",
      "2\n",
      "3\n",
      "4\n",
      "5\n",
      "6\n",
      "7\n",
      "8\n",
      "9\n"
     ]
    }
   ],
   "execution_count": 7
  },
  {
   "cell_type": "code",
   "metadata": {
    "ExecuteTime": {
     "end_time": "2024-12-20T12:31:26.535870Z",
     "start_time": "2024-12-20T12:31:26.530884Z"
    }
   },
   "source": [
    "for i in range(4):\n",
    "    for j in range(2):\n",
    "        print(f\"i:{i} and j:{j}\")"
   ],
   "outputs": [
    {
     "name": "stdout",
     "output_type": "stream",
     "text": [
      "i:0 and j:0\n",
      "i:0 and j:1\n",
      "i:1 and j:0\n",
      "i:1 and j:1\n",
      "i:2 and j:0\n",
      "i:2 and j:1\n",
      "i:3 and j:0\n",
      "i:3 and j:1\n"
     ]
    }
   ],
   "execution_count": 8
  },
  {
   "cell_type": "code",
   "metadata": {
    "ExecuteTime": {
     "end_time": "2024-12-20T12:31:29.219798Z",
     "start_time": "2024-12-20T12:31:26.567144Z"
    }
   },
   "source": [
    "#calculate first n natural sums with for and while loops\n",
    "#using for loops\n",
    "n1 = int(input(\"Enter n1:\"))\n",
    "sum = 0\n",
    "for i in range(n1):\n",
    "    sum = int((n1 * (n1 + 1)) / 2)\n",
    "print(sum)"
   ],
   "outputs": [
    {
     "name": "stdout",
     "output_type": "stream",
     "text": [
      "7626\n"
     ]
    }
   ],
   "execution_count": 9
  },
  {
   "cell_type": "code",
   "metadata": {
    "ExecuteTime": {
     "end_time": "2024-12-20T12:31:31.855032Z",
     "start_time": "2024-12-20T12:31:29.259799Z"
    }
   },
   "source": [
    "#using while loops\n",
    "n1 = int(input(\"Enter n1:\"))\n",
    "counter = n1\n",
    "sum = 0\n",
    "while(counter<=n1):\n",
    "    sum = int((n1 * (n1 + 1)) / 2)\n",
    "    counter = counter + 1\n",
    "print(sum)"
   ],
   "outputs": [
    {
     "name": "stdout",
     "output_type": "stream",
     "text": [
      "7626\n"
     ]
    }
   ],
   "execution_count": 10
  },
  {
   "cell_type": "code",
   "metadata": {
    "ExecuteTime": {
     "end_time": "2024-12-20T12:31:34.399332Z",
     "start_time": "2024-12-20T12:31:31.874404Z"
    }
   },
   "source": [
    "n = int(input(\"Enter last index: \"))\n",
    "summation=0\n",
    "for i in range(n+1):\n",
    "    summation = summation + i\n",
    "print(summation)"
   ],
   "outputs": [
    {
     "name": "stdout",
     "output_type": "stream",
     "text": [
      "7626\n"
     ]
    }
   ],
   "execution_count": 11
  },
  {
   "cell_type": "code",
   "metadata": {
    "ExecuteTime": {
     "end_time": "2024-12-20T12:31:36.554007Z",
     "start_time": "2024-12-20T12:31:34.438964Z"
    }
   },
   "source": [
    "prime = int(input(\"Enter Last Number: \"))\n",
    "for number in range(1,prime+1):\n",
    "    if(number>1):\n",
    "        for i in range(2,number):\n",
    "            if(number%i==0):\n",
    "                break\n",
    "        else:\n",
    "            print(number)\n"
   ],
   "outputs": [
    {
     "name": "stdout",
     "output_type": "stream",
     "text": [
      "2\n",
      "3\n",
      "5\n",
      "7\n",
      "11\n",
      "13\n",
      "17\n",
      "19\n",
      "23\n",
      "29\n",
      "31\n",
      "37\n",
      "41\n",
      "43\n",
      "47\n",
      "53\n",
      "59\n",
      "61\n",
      "67\n",
      "71\n",
      "73\n",
      "79\n",
      "83\n",
      "89\n",
      "97\n",
      "101\n",
      "103\n",
      "107\n",
      "109\n",
      "113\n"
     ]
    }
   ],
   "execution_count": 12
  },
  {
   "cell_type": "code",
   "metadata": {
    "ExecuteTime": {
     "end_time": "2024-12-20T12:31:36.602480Z",
     "start_time": "2024-12-20T12:31:36.598791Z"
    }
   },
   "source": [],
   "outputs": [],
   "execution_count": null
  }
 ],
 "metadata": {
  "kernelspec": {
   "display_name": "Python 3",
   "language": "python",
   "name": "python3"
  },
  "language_info": {
   "codemirror_mode": {
    "name": "ipython",
    "version": 3
   },
   "file_extension": ".py",
   "mimetype": "text/x-python",
   "name": "python",
   "nbconvert_exporter": "python",
   "pygments_lexer": "ipython3",
   "version": "3.11.8"
  }
 },
 "nbformat": 4,
 "nbformat_minor": 2
}
